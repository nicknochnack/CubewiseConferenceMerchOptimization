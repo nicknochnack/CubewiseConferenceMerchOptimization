{
 "cells": [
  {
   "cell_type": "markdown",
   "metadata": {},
   "source": [
    "### Get Data from TM1"
   ]
  },
  {
   "cell_type": "code",
   "execution_count": null,
   "metadata": {},
   "outputs": [],
   "source": [
    "from TM1py.Services import TM1Service\n",
    "from TM1py.Utils.Utils import element_names_from_element_unique_names, build_pandas_dataframe_from_cellset\n",
    "from creds import tm1_credentials"
   ]
  },
  {
   "cell_type": "code",
   "execution_count": null,
   "metadata": {},
   "outputs": [],
   "source": [
    "with TM1Service(address=tm1_credentials[\"address\"], port=tm1_credentials[\"port\"], user=tm1_credentials[\"user\"], password=tm1_credentials[\"password\"], ssl=tm1_credentials[\"ssl\"]) as tm1:\n",
    "    data = tm1.cubes.cells.execute_view(cube_name='OPS Sales', view_name='Conference View', private=False)\n",
    "    df = build_pandas_dataframe_from_cellset(data, multiindex=False)"
   ]
  },
  {
   "cell_type": "code",
   "execution_count": null,
   "metadata": {},
   "outputs": [],
   "source": [
    "sales = df.drop(['Version', 'Account','OPS Sales Source', 'OPS Sales Measure'], axis =1 )"
   ]
  },
  {
   "cell_type": "markdown",
   "metadata": {},
   "source": [
    "### Load Ancillary Data"
   ]
  },
  {
   "cell_type": "code",
   "execution_count": null,
   "metadata": {},
   "outputs": [],
   "source": [
    "import pandas as pd"
   ]
  },
  {
   "cell_type": "code",
   "execution_count": null,
   "metadata": {},
   "outputs": [],
   "source": [
    "def load_data():\n",
    "    import types\n",
    "    import pandas as pd\n",
    "\n",
    "    product = pd.read_csv('Product Details.csv')\n",
    "\n",
    "    store = pd.read_csv('Store Affluence.csv')\n",
    "\n",
    "    weather = pd.read_csv('Weather.csv')\n",
    "\n",
    "    return sales, product, store, weather"
   ]
  },
  {
   "cell_type": "code",
   "execution_count": null,
   "metadata": {},
   "outputs": [],
   "source": [
    "sales, product, store, weather = load_data()"
   ]
  },
  {
   "cell_type": "markdown",
   "metadata": {},
   "source": [
    "### Prepare Data"
   ]
  },
  {
   "cell_type": "code",
   "execution_count": null,
   "metadata": {},
   "outputs": [],
   "source": [
    "sales['Product'] = sales['Product'].astype(str)\n",
    "sales['State'] = sales['Store'].apply(lambda x: x[:3])\n",
    "product['All Products'] = product['All Products'].astype(str)"
   ]
  },
  {
   "cell_type": "code",
   "execution_count": null,
   "metadata": {},
   "outputs": [],
   "source": [
    "import warnings\n",
    "warnings.filterwarnings(\"ignore\")\n",
    "\n",
    "weathernsw = weather[['Date', 'NSW Temp Avg', 'NSW Precipitation']]\n",
    "weathernsw['State'] = 'NSW'\n",
    "weathernsw.columns = ['Date', 'Temp', 'Preciptation', 'State']\n",
    "\n",
    "weathervic = weather[['Date', 'VIC Temp Avg', 'VIC Precipitation']]\n",
    "weathervic['State'] = 'VIC'\n",
    "weathervic.columns = ['Date', 'Temp', 'Preciptation', 'State']\n",
    "\n",
    "weatherqld = weather[['Date', 'QLD Temp Avg', 'QLD Precipitation']]\n",
    "weatherqld['State'] = 'QLD'\n",
    "weatherqld.columns = ['Date', 'Temp', 'Preciptation', 'State']\n",
    "\n",
    "weather_table =pd.concat([weathernsw, weathervic, weatherqld])\n",
    "weather_table['Date'] = weather_table['Date'].apply(lambda x: '0'+str(x) if len(str(x)) < 8 else x)"
   ]
  },
  {
   "cell_type": "code",
   "execution_count": null,
   "metadata": {},
   "outputs": [],
   "source": [
    "df1 = pd.merge(sales,\n",
    "                 store[['Store', 'RegionAffluence']],\n",
    "                 left_on='Store', right_on='Store', \n",
    "                 how='left')\n",
    "\n",
    "df2 = pd.merge(df1,\n",
    "                 product[['Brand Affinity', 'Product Size', 'All Products']],\n",
    "                 left_on='Product', right_on='All Products', \n",
    "                 how='left')\n",
    "df2.drop(['All Products'], axis=1, inplace=True)\n",
    "\n",
    "df3 = pd.merge(df2,\n",
    "                 weather_table,\n",
    "                 left_on=['State', 'Time Date'], right_on=['State', 'Date'], \n",
    "                 how='left')\n",
    "df3.drop('Date', axis=1, inplace=True)"
   ]
  },
  {
   "cell_type": "code",
   "execution_count": null,
   "metadata": {},
   "outputs": [],
   "source": [
    "df3['Time Date'] = df3['Time Date'].apply(lambda x: '0' + str(x) if len(str(x)) < 8 else x)\n",
    "df3['Time Date'] = pd.to_datetime(df3['Time Date'], format='%d%m%Y')"
   ]
  },
  {
   "cell_type": "code",
   "execution_count": null,
   "metadata": {},
   "outputs": [],
   "source": [
    "def create_shaped_data(dataframe, store, product, series_length):\n",
    "    singleprod = dataframe[(dataframe['Store']==store)&(dataframe['Product']==product)]\n",
    "    singleprod.drop(['Product', 'Store', 'State'], axis=1, inplace=True)\n",
    "    singleprod['Temp'].fillna(singleprod['Temp'].mean(), inplace=True)\n",
    "    singleprod['Preciptation'].fillna(singleprod['Preciptation'].mean(), inplace=True)\n",
    "    \n",
    "    input_length = series_length\n",
    "    data_point = 365 - input_length\n",
    "    abt = []\n",
    "    timedate = []\n",
    "    for row in range(input_length, data_point):\n",
    "        start = row-input_length\n",
    "        abt.append([singleprod.sort_values(by='Time Date').iloc[start:row,1:].to_numpy()])\n",
    "        timedate.append([singleprod.sort_values(by='Time Date').iloc[start:row,0].to_numpy()])\n",
    "        \n",
    "\n",
    "    abt = np.array(abt)\n",
    "    abt = abt.reshape(-1,series_length,6)\n",
    "    \n",
    "    timedate = np.array(timedate)\n",
    "    timedate = timedate.reshape(-1,series_length,1)\n",
    "\n",
    "    X = np.array([steps[:series_length-1] for steps in abt])\n",
    "    y = np.array([steps[series_length-1][0] for steps in abt])\n",
    "    y_time = np.array([steps[series_length-1][0] for steps in timedate])\n",
    "    \n",
    "    return X, y, y_time"
   ]
  },
  {
   "cell_type": "markdown",
   "metadata": {},
   "source": [
    "### Start Scoring"
   ]
  },
  {
   "cell_type": "code",
   "execution_count": null,
   "metadata": {},
   "outputs": [],
   "source": [
    "from keras import backend as K\n",
    "K.clear_session()"
   ]
  },
  {
   "cell_type": "code",
   "execution_count": null,
   "metadata": {},
   "outputs": [],
   "source": [
    "import itertools\n",
    "import numpy as np\n",
    "import pickle"
   ]
  },
  {
   "cell_type": "code",
   "execution_count": null,
   "metadata": {},
   "outputs": [],
   "source": [
    "cellset = {}\n",
    "for product, store in itertools.product(df3['Product'].unique(), df3['Store'].unique()):\n",
    "    X, y, y_time  = create_shaped_data(df3, store, product, 6)\n",
    "    K.clear_session()\n",
    "    modelpath = './models/'+store+'-'+product+'.pkl'\n",
    "    with open(modelpath, 'rb') as f:\n",
    "        model = pickle.load(f)\n",
    "    predictions = model.predict(X.reshape(-1,5,6))\n",
    "    cellset.update({(pd.to_datetime(str(y_time[count])).strftime('%d%m%Y'), 'LSTM Forecast', '4999', product, store, 'Base', 'Amount'):prediction[0] for count, prediction in enumerate(predictions)})"
   ]
  },
  {
   "cell_type": "markdown",
   "metadata": {},
   "source": [
    "### Send Data Back into TM1"
   ]
  },
  {
   "cell_type": "code",
   "execution_count": null,
   "metadata": {},
   "outputs": [],
   "source": [
    "with TM1Service(address=tm1_credentials[\"address\"], port=tm1_credentials[\"port\"], user=tm1_credentials[\"user\"], password=tm1_credentials[\"password\"], ssl=tm1_credentials[\"ssl\"]) as tm1:\n",
    "    tm1.cubes.cells.write_values('OPS Sales', cellset, dimensions=['Time Date', 'Version', 'Account', 'Product', 'Store', 'OPS Sales Source', 'OPS Sales Measure'])"
   ]
  },
  {
   "cell_type": "code",
   "execution_count": null,
   "metadata": {},
   "outputs": [],
   "source": [
    "cellset"
   ]
  }
 ],
 "metadata": {
  "kernelspec": {
   "display_name": "Python 3",
   "language": "python",
   "name": "python3"
  },
  "language_info": {
   "codemirror_mode": {
    "name": "ipython",
    "version": 3
   },
   "file_extension": ".py",
   "mimetype": "text/x-python",
   "name": "python",
   "nbconvert_exporter": "python",
   "pygments_lexer": "ipython3",
   "version": "3.7.3"
  }
 },
 "nbformat": 4,
 "nbformat_minor": 2
}
