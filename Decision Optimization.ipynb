{
 "cells": [
  {
   "cell_type": "markdown",
   "metadata": {},
   "source": [
    "### Get TM1 Data"
   ]
  },
  {
   "cell_type": "code",
   "execution_count": null,
   "metadata": {},
   "outputs": [],
   "source": [
    "from TM1py.Services import TM1Service\n",
    "from TM1py.Utils.Utils import element_names_from_element_unique_names, build_pandas_dataframe_from_cellset\n",
    "from creds import tm1_credentials"
   ]
  },
  {
   "cell_type": "code",
   "execution_count": null,
   "metadata": {},
   "outputs": [],
   "source": [
    "with TM1Service(address=tm1_credentials[\"address\"], port=tm1_credentials[\"port\"], user=tm1_credentials[\"user\"], password=tm1_credentials[\"password\"], ssl=tm1_credentials[\"ssl\"]) as tm1:\n",
    "    data = tm1.cubes.cells.execute_view(cube_name='OPS Sales', view_name='Optimization View', private=False)\n",
    "    df = build_pandas_dataframe_from_cellset(data, multiindex=False)"
   ]
  },
  {
   "cell_type": "code",
   "execution_count": null,
   "metadata": {},
   "outputs": [],
   "source": [
    "df = df.drop(['Version', 'OPS Sales Source', 'OPS Sales Measure'], axis =1)"
   ]
  },
  {
   "cell_type": "code",
   "execution_count": null,
   "metadata": {},
   "outputs": [],
   "source": [
    "df = df.set_index(['Store', 'Product', 'Time Date'])"
   ]
  },
  {
   "cell_type": "code",
   "execution_count": null,
   "metadata": {},
   "outputs": [],
   "source": [
    "df = df.fillna(0)"
   ]
  },
  {
   "cell_type": "code",
   "execution_count": null,
   "metadata": {},
   "outputs": [],
   "source": [
    "df.head()"
   ]
  },
  {
   "cell_type": "markdown",
   "metadata": {},
   "source": [
    "### Import Pulp"
   ]
  },
  {
   "cell_type": "code",
   "execution_count": null,
   "metadata": {},
   "outputs": [],
   "source": [
    "import pulp"
   ]
  },
  {
   "cell_type": "markdown",
   "metadata": {},
   "source": [
    "### Define marketing spend variables"
   ]
  },
  {
   "cell_type": "code",
   "execution_count": null,
   "metadata": {},
   "outputs": [],
   "source": [
    "marketingspend = pulp.LpVariable.dicts(\"marketingspend\", ((store, product, day) for store, product, day in df.index.unique()),\n",
    "                                     lowBound=0,\n",
    "                                     cat='Integer')"
   ]
  },
  {
   "cell_type": "code",
   "execution_count": null,
   "metadata": {},
   "outputs": [],
   "source": [
    "len(marketingspend)"
   ]
  },
  {
   "cell_type": "code",
   "execution_count": null,
   "metadata": {},
   "outputs": [],
   "source": [
    "len([(store, product, day) for store, product, day in df.index.unique()])"
   ]
  },
  {
   "cell_type": "markdown",
   "metadata": {},
   "source": [
    "### Setup problem"
   ]
  },
  {
   "cell_type": "code",
   "execution_count": null,
   "metadata": {},
   "outputs": [],
   "source": [
    "model = pulp.LpProblem(\"Profit maximising problem\", pulp.LpMaximize)"
   ]
  },
  {
   "cell_type": "code",
   "execution_count": null,
   "metadata": {},
   "outputs": [],
   "source": [
    "model"
   ]
  },
  {
   "cell_type": "code",
   "execution_count": null,
   "metadata": {},
   "outputs": [],
   "source": [
    "model += pulp.lpSum([df[df['Account']=='4999'].loc[(store, product, day)]['Values']*df[df['Account']=='4994'].loc[(store, product, day)]['Values'] for store, product, day in df.index.unique()] +\n",
    "           [(marketingspend[(store, product, day)]*df[df['Account']=='4996'].loc[(store, product, day)]['Values'])*df[df['Account']=='4994'].loc[(store, product, day)]['Values'] for store, product, day in df.index.unique() ])\n",
    "           "
   ]
  },
  {
   "cell_type": "markdown",
   "metadata": {},
   "source": [
    "### Add Constraints"
   ]
  },
  {
   "cell_type": "code",
   "execution_count": null,
   "metadata": {},
   "outputs": [],
   "source": [
    "for store, product, day in df.index.unique():\n",
    "    model += df[df['Account']=='4999'].loc[(store, product, day)]['Values'] + marketingspend[(store, product, day)]*df[df['Account']=='4996'].loc[(store, product, day)]['Values'] <= df[df['Account']=='4998'].loc[(store, product, day)]['Values']"
   ]
  },
  {
   "cell_type": "code",
   "execution_count": null,
   "metadata": {},
   "outputs": [],
   "source": [
    "model += pulp.lpSum(marketingspend) <= 33381  "
   ]
  },
  {
   "cell_type": "markdown",
   "metadata": {},
   "source": [
    "### Solve Problem"
   ]
  },
  {
   "cell_type": "code",
   "execution_count": null,
   "metadata": {},
   "outputs": [],
   "source": [
    "model.solve()\n",
    "print(pulp.LpStatus[model.status])\n",
    "print(pulp.value(model.objective))"
   ]
  },
  {
   "cell_type": "code",
   "execution_count": null,
   "metadata": {},
   "outputs": [],
   "source": [
    "cellset = {(day, 'Optimized Actual', '4997', product, store, 'Base', 'Amount'):marketingspend[(store, product, day)].varValue for store, product, day in df.index.unique()}"
   ]
  },
  {
   "cell_type": "code",
   "execution_count": null,
   "metadata": {},
   "outputs": [],
   "source": [
    "cellset"
   ]
  },
  {
   "cell_type": "code",
   "execution_count": null,
   "metadata": {},
   "outputs": [],
   "source": [
    "with TM1Service(address=tm1_credentials[\"address\"], port=tm1_credentials[\"port\"], user=tm1_credentials[\"user\"], password=tm1_credentials[\"password\"], ssl=tm1_credentials[\"ssl\"]) as tm1:\n",
    "    tm1.cubes.cells.write_values('OPS Sales', cellset, dimensions=['Time Date', 'Version', 'Account', 'Product', 'Store', 'OPS Sales Source', 'OPS Sales Measure'])"
   ]
  }
 ],
 "metadata": {
  "kernelspec": {
   "display_name": "Python 3",
   "language": "python",
   "name": "python3"
  },
  "language_info": {
   "codemirror_mode": {
    "name": "ipython",
    "version": 3
   },
   "file_extension": ".py",
   "mimetype": "text/x-python",
   "name": "python",
   "nbconvert_exporter": "python",
   "pygments_lexer": "ipython3",
   "version": "3.7.3"
  }
 },
 "nbformat": 4,
 "nbformat_minor": 1
}
